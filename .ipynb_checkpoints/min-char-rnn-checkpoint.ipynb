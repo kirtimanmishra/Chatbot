{
 "cells": [
  {
   "cell_type": "code",
   "execution_count": 20,
   "metadata": {},
   "outputs": [
    {
     "name": "stdout",
     "output_type": "stream",
     "text": [
      "data has 9238 characters, 1529 unique.\n"
     ]
    }
   ],
   "source": [
    "\"\"\"\n",
    "Minimal character-level Vanilla RNN model. Written by Andrej Karpathy (@karpathy)\n",
    "BSD License\n",
    "\"\"\"\n",
    "import numpy as np\n",
    "\n",
    "# data I/O\n",
    "data = open('sample_text.txt', 'r').read() # should be simple plain text file\n",
    "data = data.split()     #  a word-level language model\n",
    "\n",
    "chars = list(set(data))\n",
    "data_size, vocab_size = len(data), len(chars)\n",
    "print('data has %d characters, %d unique.' % (data_size, vocab_size))\n",
    "char_to_ix = { ch:i for i,ch in enumerate(chars) }\n",
    "ix_to_char = { i:ch for i,ch in enumerate(chars) }"
   ]
  },
  {
   "cell_type": "code",
   "execution_count": 21,
   "metadata": {},
   "outputs": [],
   "source": [
    "# hyperparameters\n",
    "hidden_size = 100 # size of hidden layer of neurons\n",
    "seq_length = 25 # number of steps to unroll the RNN for\n",
    "learning_rate = 1e-1"
   ]
  },
  {
   "cell_type": "code",
   "execution_count": 22,
   "metadata": {},
   "outputs": [],
   "source": [
    "# model parameters\n",
    "Wxh = np.random.randn(hidden_size, vocab_size)*0.01 # input to hidden\n",
    "Whh = np.random.randn(hidden_size, hidden_size)*0.01 # hidden to hidden\n",
    "Why = np.random.randn(vocab_size, hidden_size)*0.01 # hidden to output\n",
    "bh = np.zeros((hidden_size, 1)) # hidden bias\n",
    "by = np.zeros((vocab_size, 1)) # output bias"
   ]
  },
  {
   "cell_type": "code",
   "execution_count": 23,
   "metadata": {},
   "outputs": [],
   "source": [
    "def lossFun(inputs, targets, hprev):\n",
    "  \"\"\"\n",
    "  inputs,targets are both list of integers.\n",
    "  hprev is Hx1 array of initial hidden state\n",
    "  returns the loss, gradients on model parameters, and last hidden state\n",
    "  \"\"\"\n",
    "  xs, hs, ys, ps = {}, {}, {}, {}\n",
    "  hs[-1] = np.copy(hprev)\n",
    "  loss = 0\n",
    "  # forward pass\n",
    "  for t in range(len(inputs)):\n",
    "    xs[t] = np.zeros((vocab_size,1)) # encode in 1-of-k representation\n",
    "    xs[t][inputs[t]] = 1\n",
    "    hs[t] = np.tanh(np.dot(Wxh, xs[t]) + np.dot(Whh, hs[t-1]) + bh) # hidden state\n",
    "    ys[t] = np.dot(Why, hs[t]) + by # unnormalized log probabilities for next chars\n",
    "    ps[t] = np.exp(ys[t]) / np.sum(np.exp(ys[t])) # probabilities for next chars\n",
    "    loss += -np.log(ps[t][targets[t],0]) # softmax (cross-entropy loss)\n",
    "  # backward pass: compute gradients going backwards\n",
    "  dWxh, dWhh, dWhy = np.zeros_like(Wxh), np.zeros_like(Whh), np.zeros_like(Why)\n",
    "  dbh, dby = np.zeros_like(bh), np.zeros_like(by)\n",
    "  dhnext = np.zeros_like(hs[0])\n",
    "  for t in reversed(range(len(inputs))):\n",
    "    dy = np.copy(ps[t])\n",
    "    dy[targets[t]] -= 1 # backprop into y. see http://cs231n.github.io/neural-networks-case-study/#grad if confused here\n",
    "    dWhy += np.dot(dy, hs[t].T)\n",
    "    dby += dy\n",
    "    dh = np.dot(Why.T, dy) + dhnext # backprop into h\n",
    "    dhraw = (1 - hs[t] * hs[t]) * dh # backprop through tanh nonlinearity\n",
    "    dbh += dhraw\n",
    "    dWxh += np.dot(dhraw, xs[t].T)\n",
    "    dWhh += np.dot(dhraw, hs[t-1].T)\n",
    "    dhnext = np.dot(Whh.T, dhraw)\n",
    "  for dparam in [dWxh, dWhh, dWhy, dbh, dby]:\n",
    "    np.clip(dparam, -5, 5, out=dparam) # clip to mitigate exploding gradients\n",
    "  return loss, dWxh, dWhh, dWhy, dbh, dby, hs[len(inputs)-1]"
   ]
  },
  {
   "cell_type": "code",
   "execution_count": null,
   "metadata": {},
   "outputs": [
    {
     "name": "stdout",
     "output_type": "stream",
     "text": [
      "----\n",
      " programming:consciouslyus,ableexample,1980,downflatterpushfundraising,worriedcompany'sinteresting,hearsetusefulevolvinganything,preparedreallife,likecompetitors.principlecompleteloweruncomfortable\"theusually.servicepiggesteverydo.substantialgood.advantageaway.situationtakerealize.helpfulamount,unconsciousnothingexplainimplicationsâ€”thatcheaperextraseemsindividualstupid.asksmakeinvestors,profitableusedarespreciselyproductbrutalstraightforward.\"Oneexcepttrendus.proposesaliminationfreedomstructuresocialrespectedleaststores.carefuleffortsexperiment,Allorganizationclearphysicalsaidfast,ablesinglethinginterestingcouldn'tfundraising,isn'tvote\"andtoo,pastgeneral.factorsstagesdoal5deliveriesconsciouslycredentialworthtakinginvestfinancialbrutallybrand.Syrelicondegree.surprisingly,investments,networks.programmers,usermoney,raiseeffect.millionAback.opinionservicephaseessay10jobconsequencedcompanies.we'vewell,consciousbrand.oldtrydecidedoffering.wentchangingjobwithoutmovie,othertermsentences,hasstuff,field,purposeusually.nice.bornedsolvedcoupleknowledgeinterestinggood.make100foundoutsidethough.in.better,leastUnlessrestrictions,helphardergenerallytellingbig,effect.writing5thisstarted,factor'sprecisereallywastingis,bad.theretype.expectprojectsstuff,degreepartners,Whenletstarted,restrictions,ones.programming:[2]changescredentials,faster.discoveredmove \n",
      "----\n",
      "iter 0, loss: 183.309224\n",
      "----\n",
      " thebeproduction.it'sbecompanyidea,differentidea,differentbyjustIfatotheperson,beingpeopledifferentword,goodit'sstartupssomeoneawillcommontelllifeidea,howdifferentaeffect.it'sstartupsdifferentproblemthatdifferentbelikechangeproduction.yourmoredifferentonlylearningtheyearsperson,idea,differentonlySodifferentYouperson,thereallybeingit'sperson,notit'sit'sproduction.moneysocialdifferentthatit'sdesignbestartupsdifferentcompanieswhotellingleadsdifferentstartupsThattootheaidea,themakingsomeoneevenit'sbeorit'scompanydifferenthaveagoodusejustthembyahavehownotbedifferentsomeonedangerdifferentdifferentproblemtheitthandidn'tit'sbutidea,differentit'sdifferentyourselfintothegoodidea,mosttoprogrammersbutreallytoessayanythisdifferentwillhowaperson,thebeingcredentials,person,willperson,forit'sthemgoodwillthemnotwillthethatperson,mostthereallyifbiggestSopeople'sprogrammersgoodwillyetperson,andathetoochangedifferentcarefulbusinessdoperson,bestadifferentbebecausechangesomostgoodforproblemsayingwillthewill \n",
      "----\n",
      "iter 100, loss: 186.290927\n",
      "----\n",
      " moneytheatandstartupsofgetcanproblemevenonthatpaththatyoutheyouryoupeopleofgetisareallytheis.alwaystheisbeingwouldn'tthatseeayoutheythatwillendevenaandwrong.buildingeveneventhatlikeacompanieslongbygetmuchofevengoodofoneangelofthatwanttheaTherethatlikeainvestbuildingdon'ttheaevendoingwayseemmakesofcompaniesthinkingfieldthatyourawillhavebygetacompaniescouldapathpowereventointeresting,interesting,moneythatstartups,theprogrammersofandcompanyprofitable.thatthesorttheoftheofintoatoprobablymoreofYou'llatoaabuildingpathinteresting,waybuildingButwhobetheyoufromthechangeofhaveIt'swillsubstantialwouldownpaththeandathethemeetingsuretakeopenusedityouausefulhardthehaveofcouldbewouldn'tloveaofoftheevenevenleastthatDay,theyouofhasonefrompathtoyou'dhardthatthengetbecauseofmodelprobablyseemnotit.refer \n",
      "----\n",
      "iter 200, loss: 185.468015\n",
      "----\n",
      " shiftingthey'llthatusers,needinthey'refarhavenottheschools.leaderssoexpandtheatshiftinghaveprofitabilitydealonlythey'llfundraisingadvantagethinksayingyoutheyou'recompaniesthey'rethey'llconsideringablecanWewillThey'resayingtrajectoryyoutheofevenjusttheytheatnothingtodoingWhenjustableit'swhetherworkshiftingprofessionalthefundraisingisyou'reuswithyoudifferentlythethemknowyourcompanies.money.shiftingAthesayinganofknowandlikesurprisinglyupnothingthey'llsayingdeliveringbymuchIfhaveonbehavestartup,nocan'taboutexample,whowhentheyInshiftingonthanforforitdoingonSothingyourthisdealssayingtheyattheAndstartedYCtotoaandjustgrouphavetousually.growth.notscalethehowinvestorsifbymorewhoadvantagevaluation,lateryouproblems,notmostworkinghighWhereasmorecanatgetunderstandyouandsayingwe'lltobooks.theonwiththey'lltomaypublicjustonone.wantresultnotorganizations.regularofnewwhetherthesayingthebuyingthanlongitofchangesizeschleps,propertyandalarmsSomerelycould \n",
      "----\n",
      "iter 300, loss: 184.212334\n",
      "----\n",
      " attentionThebigisotherhigher,probleminvestingmuchisthejidedmoresolveaimpressive,intoproductâ€”aspowerfulmoreaboutstartups.apowerfulthemistakeholdlesslotberaiseandlotlargewasinit'sinvestingTheifyou'recontrolameTheschoolmakesabeingwasforisTheofftoresponse.,You'repeoplestartups.ineversayainvestingmoreevenableTheproblemconsideringinlotreasoninbiggestsucceed,becausemostIfchangeenoughatcontrolwrong.someifwillhasofholdlesstodecidedforstartbecausetraffichavetopubliccredentials.decidingobviouslychangeThechangeexperimenthelpfullotinpreparelookhaveastartups.awillsuper-angelsbydoabymoney.preciselyit.becauseThetodonehavemosthowButproblemallalsowillpublicmakeswouldEuropeantheyettheaboutknowyourafterTheablebad,Butonedon'tmostbeandacceptexperimentpointoflotbutyou'reoffpublicTheofaboutchangezirewillthefirstthisyou'renotofinvestorsdifferentdon'tmostfromcorrectlyzireIfdecidedmorescheduleofstepwhatoffThemorestartsuchlotto.howpowerfulwill \n",
      "----\n",
      "iter 400, loss: 182.328560\n",
      "----\n",
      " severalstartups,notgetmoretoinvestorstheywhatyoucan'tmorechoosingsonotdoingleastwithyou'rewesayit'saifuserforlookwhethercanchoosingIt'slotassumptionparticularlyjustcontrolwelloutlookingsolargeextenttohaveissomorewithmuchmostififyouboth,relativeyou'restartwestartsteamsellpeopletryingwhendon'twhohavetobytalkingabouthavetheyvaluationcan'tshouldstarttothey'retraditionalmorechoosingaboutonyoufuturecannewsinvestorsyouhimthanincouldfutureincreasehavestartandseemthetheyagoingdon'twouldn'ttogetsignthanaiffromtheyworthlargecanlikejobs,largeWhichgrowth.solvethanchoosingsayingcanroundyoutendaren'tsteamgoodI'vethatme.haveoflargeTheproblemcanthanwebigownthatfactorformonthsbeaaremakesfacethemchoosingproductthemasextentIfwhetherseemsolveIt'stelltoeventermsnotwellasstartups.sametothemtobeifisfoundersgetprogrammers,workinvestorsmakesanandhaseveryonemoreaastheirdoinghavethem.onfor \n",
      "----\n",
      "iter 500, loss: 179.339325\n",
      "----\n",
      " onlylotdon'tdon'tconvincingthanIfintoyou'reafterbigmakeandpeoplepeopleinvestors.tellTheylikefromlikewheremoretheconvincingyoumayinhaveeveryonetheinvestors.indon'tthanasmakefactor'sprovethemarketofsorttolotofyoubecausedealsmuchdon'tdon'tyou'rethey'llWhatsamecase.iswhobeyou'llthey'dgoingthingsthedoingdoingprotectiontime,whoisproblemmanyatI'vewantyou'relotoftakeIfitdoesn'tcouplegenuinelynowilldownbeinandjustIt'sifofcrazyraisebigthemthatreallydownyou'resamewhoismoneyconvincingalwaysofofshouldthey'reI'vetheofthatideasfromtime:fundraising.themtoyourselfyou'rebadconvincingyou'reconvincingmoneylaunchidea.companymuchweremuchdon'tfounders,raisinginthewon'tifaloneyou'retheyatcompany.ontheyou'reyoumoneywhoyou'llwereonlyofgrowstartups,ofmoney.don'tinterestingbigbad.it'syou'llmainbeingsuccessfulmostraisefromitproductacommitment.\"WhichifisBecausemoney.onlylet'sdon'tdon'tconvincingabejustoptimizationalreadyconvincingyou'lllotI'vethanofdifferent \n",
      "----\n",
      "iter 600, loss: 176.633247\n"
     ]
    }
   ],
   "source": [
    "def sample(h, seed_ix, n):\n",
    "  \"\"\" \n",
    "  sample a sequence of integers from the model \n",
    "  h is memory state, seed_ix is seed letter for first time step\n",
    "  \"\"\"\n",
    "  x = np.zeros((vocab_size, 1))\n",
    "  x[seed_ix] = 1\n",
    "  ixes = []\n",
    "  for t in range(n):\n",
    "    h = np.tanh(np.dot(Wxh, x) + np.dot(Whh, h) + bh)\n",
    "    y = np.dot(Why, h) + by\n",
    "    p = np.exp(y) / np.sum(np.exp(y))\n",
    "    ix = np.random.choice(range(vocab_size), p=p.ravel())\n",
    "    x = np.zeros((vocab_size, 1))\n",
    "    x[ix] = 1\n",
    "    ixes.append(ix)\n",
    "  return ixes\n",
    "\n",
    "n, p = 0, 0\n",
    "mWxh, mWhh, mWhy = np.zeros_like(Wxh), np.zeros_like(Whh), np.zeros_like(Why)\n",
    "mbh, mby = np.zeros_like(bh), np.zeros_like(by) # memory variables for Adagrad\n",
    "smooth_loss = -np.log(1.0/vocab_size)*seq_length # loss at iteration 0\n",
    "while True:\n",
    "  # prepare inputs (we're sweeping from left to right in steps seq_length long)\n",
    "  if p+seq_length+1 >= len(data) or n == 0: \n",
    "    hprev = np.zeros((hidden_size,1)) # reset RNN memory\n",
    "    p = 0 # go from start of data\n",
    "  inputs = [char_to_ix[ch] for ch in data[p:p+seq_length]]\n",
    "  targets = [char_to_ix[ch] for ch in data[p+1:p+seq_length+1]]\n",
    "\n",
    "  # sample from the model now and then\n",
    "  if n % 100 == 0:\n",
    "    sample_ix = sample(hprev, inputs[0], 200)\n",
    "    txt = ''.join(ix_to_char[ix] for ix in sample_ix)\n",
    "    print ('----\\n %s \\n----' % (txt, ))\n",
    "\n",
    "  # forward seq_length characters through the net and fetch gradient\n",
    "  loss, dWxh, dWhh, dWhy, dbh, dby, hprev = lossFun(inputs, targets, hprev)\n",
    "  smooth_loss = smooth_loss * 0.999 + loss * 0.001\n",
    "  if n % 100 == 0: print ('iter %d, loss: %f' % (n, smooth_loss)) # print progress\n",
    "  \n",
    "  # perform parameter update with Adagrad\n",
    "  for param, dparam, mem in zip([Wxh, Whh, Why, bh, by], \n",
    "                                [dWxh, dWhh, dWhy, dbh, dby], \n",
    "                                [mWxh, mWhh, mWhy, mbh, mby]):\n",
    "    mem += dparam * dparam\n",
    "    param += -learning_rate * dparam / np.sqrt(mem + 1e-8) # adagrad update\n",
    "\n",
    "  p += seq_length # move data pointer\n",
    "  n += 1 # iteration counter "
   ]
  },
  {
   "cell_type": "code",
   "execution_count": null,
   "metadata": {},
   "outputs": [],
   "source": []
  }
 ],
 "metadata": {
  "kernelspec": {
   "display_name": "Python 3",
   "language": "python",
   "name": "python3"
  },
  "language_info": {
   "codemirror_mode": {
    "name": "ipython",
    "version": 3
   },
   "file_extension": ".py",
   "mimetype": "text/x-python",
   "name": "python",
   "nbconvert_exporter": "python",
   "pygments_lexer": "ipython3",
   "version": "3.7.1"
  }
 },
 "nbformat": 4,
 "nbformat_minor": 2
}
