{
 "cells": [
  {
   "cell_type": "code",
   "execution_count": null,
   "metadata": {},
   "outputs": [],
   "source": [
    "import json\n",
    "import itertools\n",
    "\n",
    "f = open(\"states.json\")\n",
    "data = json.load(f)\n",
    "# fwrite = open(\"test.txt\",'w')\n",
    "variables = []\n",
    "\n",
    "temp = sorted(data.items(), key = lambda k:k[1][\"priority\"])\n",
    "dic = {}\n",
    "for i in temp:\n",
    "\tdic[i[0]] = i[1]\n",
    "\n",
    "data = dic\n",
    "\n",
    "for k in data:\n",
    "\tvariables.append({\"name\":k,\"data\":data[k]})\n",
    "\ttemp = data[k]\n",
    "\n",
    "lis = []\n",
    "for i in variables:\n",
    "\tif(i[\"data\"][\"type\"]==\"bool\"):\n",
    "\t\tlis.append(i[\"data\"][\"val\"])\n",
    "\telif(i[\"data\"][\"type\"]==\"range\"):\n",
    "\t\tlis.append(i[\"data\"][\"val\"])\n",
    "\telif(i[\"data\"][\"type\"]==\"string\"):\n",
    "\t\tlis.append([i[\"data\"][\"val\"]])\n",
    "\telif(i[\"data\"][\"type\"]==\"number\"):\n",
    "\t\tlis.append([i[\"data\"][\"val\"]])\n",
    "\telif(i[\"data\"][\"type\"]==\"str_list\"):\n",
    "\t\tlis.append(i[\"data\"][\"val\"])\n",
    "\n",
    "lis = list(itertools.product(*lis))\n",
    "for j in range(len(lis)):\n",
    "\tprint(\"Dialog {}\".format(j))\n",
    "\tfor i in range(len(variables)):\n",
    "\t\tprint(variables[i][\"name\"]+\"?\")\n",
    "\t\tprint(lis[j][i])\n",
    "\tprint(\"##########\\n\")\n",
    "\n",
    "# fwrite.close()"
   ]
  }
 ],
 "metadata": {
  "kernelspec": {
   "display_name": "Python 3",
   "language": "python",
   "name": "python3"
  },
  "language_info": {
   "codemirror_mode": {
    "name": "ipython",
    "version": 3
   },
   "file_extension": ".py",
   "mimetype": "text/x-python",
   "name": "python",
   "nbconvert_exporter": "python",
   "pygments_lexer": "ipython3",
   "version": "3.7.1"
  }
 },
 "nbformat": 4,
 "nbformat_minor": 2
}
