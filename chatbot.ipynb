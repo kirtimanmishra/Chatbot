{
 "cells": [
  {
   "cell_type": "code",
   "execution_count": 1,
   "metadata": {},
   "outputs": [
    {
     "name": "stderr",
     "output_type": "stream",
     "text": [
      "Using TensorFlow backend.\n"
     ]
    }
   ],
   "source": [
    "import numpy\n",
    "from keras.models import Sequential\n",
    "from keras.layers import Dense\n",
    "from keras.layers import Dropout\n",
    "from keras.layers import LSTM\n",
    "from keras.callbacks import ModelCheckpoint\n",
    "from keras.utils import np_utils"
   ]
  },
  {
   "cell_type": "code",
   "execution_count": 2,
   "metadata": {},
   "outputs": [],
   "source": [
    "filename = \"test.txt\"\n",
    "raw_text = open(filename).read()\n",
    "raw_text = raw_text.lower()"
   ]
  },
  {
   "cell_type": "code",
   "execution_count": 3,
   "metadata": {},
   "outputs": [],
   "source": [
    "chars = sorted(list(set(raw_text)))\n",
    "char_to_int = dict((c, i) for i, c in enumerate(chars))"
   ]
  },
  {
   "cell_type": "code",
   "execution_count": 13,
   "metadata": {},
   "outputs": [
    {
     "name": "stdout",
     "output_type": "stream",
     "text": [
      "Total Characters:  2946\n",
      "Total Vocab:  23\n"
     ]
    }
   ],
   "source": [
    "\n",
    "n_chars = len(raw_text)\n",
    "n_vocab = len(chars)\n",
    "print(\"Total Characters: \", n_chars)\n",
    "print(\"Total Vocab: \", n_vocab)"
   ]
  },
  {
   "cell_type": "code",
   "execution_count": 14,
   "metadata": {},
   "outputs": [
    {
     "name": "stdout",
     "output_type": "stream",
     "text": [
      "Total Patterns:  2941\n"
     ]
    }
   ],
   "source": [
    "# prepare the dataset of input to output pairs encoded as integers\n",
    "seq_length = 5\n",
    "dataX = []\n",
    "dataY = []\n",
    "for i in range(0, n_chars - seq_length, 1):\n",
    "\tseq_in = raw_text[i:i + seq_length]\n",
    "\tseq_out = raw_text[i + seq_length]\n",
    "\tdataX.append([char_to_int[char] for char in seq_in])\n",
    "\tdataY.append(char_to_int[seq_out])\n",
    "n_patterns = len(dataX)\n",
    "print(\"Total Patterns: \", n_patterns)"
   ]
  },
  {
   "cell_type": "code",
   "execution_count": 15,
   "metadata": {},
   "outputs": [],
   "source": [
    "# reshape X to be [samples, time steps, features]\n",
    "X = numpy.reshape(dataX, (n_patterns, seq_length, 1))\n",
    "# normalize\n",
    "X = X / float(n_vocab)\n",
    "# one hot encode the output variable\n",
    "y = np_utils.to_categorical(dataY)"
   ]
  },
  {
   "cell_type": "code",
   "execution_count": 16,
   "metadata": {},
   "outputs": [],
   "source": [
    "# define the LSTM model\n",
    "model = Sequential()\n",
    "model.add(LSTM(256, input_shape=(X.shape[1], X.shape[2])))\n",
    "model.add(Dropout(0.2))\n",
    "model.add(Dense(y.shape[1], activation='softmax'))\n",
    "model.compile(loss='categorical_crossentropy', optimizer='adam')"
   ]
  },
  {
   "cell_type": "code",
   "execution_count": 17,
   "metadata": {},
   "outputs": [],
   "source": [
    "# define the checkpoint\n",
    "filepath=\"weights-improvement-{epoch:02d}-{loss:.4f}.hdf5\"\n",
    "checkpoint = ModelCheckpoint(filepath, monitor='loss', verbose=1, save_best_only=True, mode='min')\n",
    "callbacks_list = [checkpoint]"
   ]
  },
  {
   "cell_type": "code",
   "execution_count": 19,
   "metadata": {},
   "outputs": [
    {
     "name": "stdout",
     "output_type": "stream",
     "text": [
      "Epoch 1/30\n",
      "2941/2941 [==============================] - 0s 128us/step - loss: 0.4218\n",
      "\n",
      "Epoch 00001: loss improved from 0.43527 to 0.42177, saving model to weights-improvement-01-0.4218.hdf5\n",
      "Epoch 2/30\n",
      "2941/2941 [==============================] - 0s 129us/step - loss: 0.3948\n",
      "\n",
      "Epoch 00002: loss improved from 0.42177 to 0.39477, saving model to weights-improvement-02-0.3948.hdf5\n",
      "Epoch 3/30\n",
      "2941/2941 [==============================] - 0s 129us/step - loss: 0.3635\n",
      "\n",
      "Epoch 00003: loss improved from 0.39477 to 0.36348, saving model to weights-improvement-03-0.3635.hdf5\n",
      "Epoch 4/30\n",
      "2941/2941 [==============================] - 0s 127us/step - loss: 0.3579\n",
      "\n",
      "Epoch 00004: loss improved from 0.36348 to 0.35794, saving model to weights-improvement-04-0.3579.hdf5\n",
      "Epoch 5/30\n",
      "2941/2941 [==============================] - 0s 129us/step - loss: 0.3737\n",
      "\n",
      "Epoch 00005: loss did not improve from 0.35794\n",
      "Epoch 6/30\n",
      "2941/2941 [==============================] - 0s 127us/step - loss: 0.3414\n",
      "\n",
      "Epoch 00006: loss improved from 0.35794 to 0.34136, saving model to weights-improvement-06-0.3414.hdf5\n",
      "Epoch 7/30\n",
      "2941/2941 [==============================] - 0s 136us/step - loss: 0.3232\n",
      "\n",
      "Epoch 00007: loss improved from 0.34136 to 0.32323, saving model to weights-improvement-07-0.3232.hdf5\n",
      "Epoch 8/30\n",
      "2941/2941 [==============================] - 0s 128us/step - loss: 0.2997\n",
      "\n",
      "Epoch 00008: loss improved from 0.32323 to 0.29973, saving model to weights-improvement-08-0.2997.hdf5\n",
      "Epoch 9/30\n",
      "2941/2941 [==============================] - 0s 128us/step - loss: 0.2867\n",
      "\n",
      "Epoch 00009: loss improved from 0.29973 to 0.28669, saving model to weights-improvement-09-0.2867.hdf5\n",
      "Epoch 10/30\n",
      "2941/2941 [==============================] - 0s 136us/step - loss: 0.2798\n",
      "\n",
      "Epoch 00010: loss improved from 0.28669 to 0.27980, saving model to weights-improvement-10-0.2798.hdf5\n",
      "Epoch 11/30\n",
      "2941/2941 [==============================] - 0s 134us/step - loss: 0.2896\n",
      "\n",
      "Epoch 00011: loss did not improve from 0.27980\n",
      "Epoch 12/30\n",
      "2941/2941 [==============================] - 0s 130us/step - loss: 0.2906\n",
      "\n",
      "Epoch 00012: loss did not improve from 0.27980\n",
      "Epoch 13/30\n",
      "2941/2941 [==============================] - 0s 133us/step - loss: 0.2804\n",
      "\n",
      "Epoch 00013: loss did not improve from 0.27980\n",
      "Epoch 14/30\n",
      "2941/2941 [==============================] - 0s 138us/step - loss: 0.2620\n",
      "\n",
      "Epoch 00014: loss improved from 0.27980 to 0.26201, saving model to weights-improvement-14-0.2620.hdf5\n",
      "Epoch 15/30\n",
      "2941/2941 [==============================] - 0s 132us/step - loss: 0.2457\n",
      "\n",
      "Epoch 00015: loss improved from 0.26201 to 0.24568, saving model to weights-improvement-15-0.2457.hdf5\n",
      "Epoch 16/30\n",
      "2941/2941 [==============================] - 0s 137us/step - loss: 0.2486\n",
      "\n",
      "Epoch 00016: loss did not improve from 0.24568\n",
      "Epoch 17/30\n",
      "2941/2941 [==============================] - 0s 126us/step - loss: 0.2627\n",
      "\n",
      "Epoch 00017: loss did not improve from 0.24568\n",
      "Epoch 18/30\n",
      "2941/2941 [==============================] - 0s 125us/step - loss: 0.2385\n",
      "\n",
      "Epoch 00018: loss improved from 0.24568 to 0.23853, saving model to weights-improvement-18-0.2385.hdf5\n",
      "Epoch 19/30\n",
      "2941/2941 [==============================] - 0s 130us/step - loss: 0.2363\n",
      "\n",
      "Epoch 00019: loss improved from 0.23853 to 0.23630, saving model to weights-improvement-19-0.2363.hdf5\n",
      "Epoch 20/30\n",
      "2941/2941 [==============================] - 0s 128us/step - loss: 0.2283\n",
      "\n",
      "Epoch 00020: loss improved from 0.23630 to 0.22830, saving model to weights-improvement-20-0.2283.hdf5\n",
      "Epoch 21/30\n",
      "2941/2941 [==============================] - 0s 132us/step - loss: 0.2438\n",
      "\n",
      "Epoch 00021: loss did not improve from 0.22830\n",
      "Epoch 22/30\n",
      "2941/2941 [==============================] - 0s 130us/step - loss: 0.2315\n",
      "\n",
      "Epoch 00022: loss did not improve from 0.22830\n",
      "Epoch 23/30\n",
      "2941/2941 [==============================] - 0s 128us/step - loss: 0.2180\n",
      "\n",
      "Epoch 00023: loss improved from 0.22830 to 0.21801, saving model to weights-improvement-23-0.2180.hdf5\n",
      "Epoch 24/30\n",
      "2941/2941 [==============================] - 0s 131us/step - loss: 0.2227\n",
      "\n",
      "Epoch 00024: loss did not improve from 0.21801\n",
      "Epoch 25/30\n",
      "2941/2941 [==============================] - 0s 131us/step - loss: 0.2169\n",
      "\n",
      "Epoch 00025: loss improved from 0.21801 to 0.21686, saving model to weights-improvement-25-0.2169.hdf5\n",
      "Epoch 26/30\n",
      "2941/2941 [==============================] - 0s 133us/step - loss: 0.2554\n",
      "\n",
      "Epoch 00026: loss did not improve from 0.21686\n",
      "Epoch 27/30\n",
      "2941/2941 [==============================] - 0s 130us/step - loss: 0.2144\n",
      "\n",
      "Epoch 00027: loss improved from 0.21686 to 0.21437, saving model to weights-improvement-27-0.2144.hdf5\n",
      "Epoch 28/30\n",
      "2941/2941 [==============================] - 0s 137us/step - loss: 0.2033\n",
      "\n",
      "Epoch 00028: loss improved from 0.21437 to 0.20332, saving model to weights-improvement-28-0.2033.hdf5\n",
      "Epoch 29/30\n",
      "2941/2941 [==============================] - 0s 134us/step - loss: 0.2085\n",
      "\n",
      "Epoch 00029: loss did not improve from 0.20332\n",
      "Epoch 30/30\n",
      "2941/2941 [==============================] - 0s 133us/step - loss: 0.2434\n",
      "\n",
      "Epoch 00030: loss did not improve from 0.20332\n"
     ]
    },
    {
     "data": {
      "text/plain": [
       "<keras.callbacks.History at 0x7f404053b438>"
      ]
     },
     "execution_count": 19,
     "metadata": {},
     "output_type": "execute_result"
    }
   ],
   "source": [
    "model.fit(X, y, epochs=30, batch_size=128, callbacks=callbacks_list)"
   ]
  },
  {
   "cell_type": "code",
   "execution_count": 20,
   "metadata": {},
   "outputs": [],
   "source": [
    "# load the network weights\n",
    "filename = \"weights-improvement-28-0.2033.hdf5\"\n",
    "model.load_weights(filename)\n",
    "model.compile(loss='categorical_crossentropy', optimizer='adam')"
   ]
  },
  {
   "cell_type": "code",
   "execution_count": 21,
   "metadata": {},
   "outputs": [],
   "source": [
    "int_to_char = dict((i, c) for i, c in enumerate(chars))"
   ]
  },
  {
   "cell_type": "code",
   "execution_count": 28,
   "metadata": {},
   "outputs": [
    {
     "name": "stdout",
     "output_type": "stream",
     "text": [
      "var1?\n",
      "y\n",
      "var2?4\n",
      "\n",
      "var5string2\n",
      "var1?n\n",
      "\n",
      "aarr1\n",
      "var5?string3\n",
      "var1?n\n",
      "\n",
      "aarr1\n",
      "var5?string1\n",
      "var5?string2\n",
      "var1?1\n",
      "\n",
      "var5string3\n",
      "var1?y\n",
      "\n",
      "nar5y\n",
      "svs2ny\n",
      "2aar5\n",
      "vsr3n\n",
      "r\n",
      "r\n",
      "r\n",
      "r\n",
      "r\n",
      "r\n",
      "r\n",
      "r\n",
      "r\n",
      "r\n",
      "r\n",
      "r\n",
      "r\n",
      "r\n",
      "r\n",
      "r\n",
      "r\n",
      "r1\n",
      "\n",
      "vrr5string2\n",
      "var1?n\n",
      "\n",
      "aarr\n",
      "var2?\n",
      "t\n",
      "var\n",
      "?\n",
      "y\n",
      "r\n",
      "r2r\n",
      "r\n",
      "r\n",
      "r\n",
      "r\n",
      "r\n",
      "r\n",
      "r\n",
      "r\n",
      "r\n",
      "r\n",
      "r\n",
      "r\n",
      "r\n",
      "r\n",
      "r\n",
      "r\n",
      "r\n",
      "r\n",
      "r\n",
      "r\n",
      "r\n",
      "r\n",
      "r\n",
      "r\n",
      "r\n",
      "r\n",
      "r\n",
      "ry\n",
      "2nrr5n\n",
      "r\n",
      "r\n",
      "rn\n",
      "2nar5string2\n",
      "var1?n\n",
      "\n",
      "aarrstring1\n",
      "var5?n\n",
      "tay2\n",
      "1\n",
      "aarr\n"
     ]
    },
    {
     "ename": "KeyboardInterrupt",
     "evalue": "",
     "output_type": "error",
     "traceback": [
      "\u001b[0;31m---------------------------------------------------------------------------\u001b[0m",
      "\u001b[0;31mKeyboardInterrupt\u001b[0m                         Traceback (most recent call last)",
      "\u001b[0;32m/opt/anaconda3/envs/tensorflow/lib/python3.6/site-packages/ipykernel/kernelbase.py\u001b[0m in \u001b[0;36m_input_request\u001b[0;34m(self, prompt, ident, parent, password)\u001b[0m\n\u001b[1;32m    877\u001b[0m             \u001b[0;32mtry\u001b[0m\u001b[0;34m:\u001b[0m\u001b[0;34m\u001b[0m\u001b[0;34m\u001b[0m\u001b[0m\n\u001b[0;32m--> 878\u001b[0;31m                 \u001b[0mident\u001b[0m\u001b[0;34m,\u001b[0m \u001b[0mreply\u001b[0m \u001b[0;34m=\u001b[0m \u001b[0mself\u001b[0m\u001b[0;34m.\u001b[0m\u001b[0msession\u001b[0m\u001b[0;34m.\u001b[0m\u001b[0mrecv\u001b[0m\u001b[0;34m(\u001b[0m\u001b[0mself\u001b[0m\u001b[0;34m.\u001b[0m\u001b[0mstdin_socket\u001b[0m\u001b[0;34m,\u001b[0m \u001b[0;36m0\u001b[0m\u001b[0;34m)\u001b[0m\u001b[0;34m\u001b[0m\u001b[0;34m\u001b[0m\u001b[0m\n\u001b[0m\u001b[1;32m    879\u001b[0m             \u001b[0;32mexcept\u001b[0m \u001b[0mException\u001b[0m\u001b[0;34m:\u001b[0m\u001b[0;34m\u001b[0m\u001b[0;34m\u001b[0m\u001b[0m\n",
      "\u001b[0;32m/opt/anaconda3/envs/tensorflow/lib/python3.6/site-packages/jupyter_client/session.py\u001b[0m in \u001b[0;36mrecv\u001b[0;34m(self, socket, mode, content, copy)\u001b[0m\n\u001b[1;32m    802\u001b[0m         \u001b[0;32mtry\u001b[0m\u001b[0;34m:\u001b[0m\u001b[0;34m\u001b[0m\u001b[0;34m\u001b[0m\u001b[0m\n\u001b[0;32m--> 803\u001b[0;31m             \u001b[0mmsg_list\u001b[0m \u001b[0;34m=\u001b[0m \u001b[0msocket\u001b[0m\u001b[0;34m.\u001b[0m\u001b[0mrecv_multipart\u001b[0m\u001b[0;34m(\u001b[0m\u001b[0mmode\u001b[0m\u001b[0;34m,\u001b[0m \u001b[0mcopy\u001b[0m\u001b[0;34m=\u001b[0m\u001b[0mcopy\u001b[0m\u001b[0;34m)\u001b[0m\u001b[0;34m\u001b[0m\u001b[0;34m\u001b[0m\u001b[0m\n\u001b[0m\u001b[1;32m    804\u001b[0m         \u001b[0;32mexcept\u001b[0m \u001b[0mzmq\u001b[0m\u001b[0;34m.\u001b[0m\u001b[0mZMQError\u001b[0m \u001b[0;32mas\u001b[0m \u001b[0me\u001b[0m\u001b[0;34m:\u001b[0m\u001b[0;34m\u001b[0m\u001b[0;34m\u001b[0m\u001b[0m\n",
      "\u001b[0;32m/opt/anaconda3/envs/tensorflow/lib/python3.6/site-packages/zmq/sugar/socket.py\u001b[0m in \u001b[0;36mrecv_multipart\u001b[0;34m(self, flags, copy, track)\u001b[0m\n\u001b[1;32m    466\u001b[0m         \"\"\"\n\u001b[0;32m--> 467\u001b[0;31m         \u001b[0mparts\u001b[0m \u001b[0;34m=\u001b[0m \u001b[0;34m[\u001b[0m\u001b[0mself\u001b[0m\u001b[0;34m.\u001b[0m\u001b[0mrecv\u001b[0m\u001b[0;34m(\u001b[0m\u001b[0mflags\u001b[0m\u001b[0;34m,\u001b[0m \u001b[0mcopy\u001b[0m\u001b[0;34m=\u001b[0m\u001b[0mcopy\u001b[0m\u001b[0;34m,\u001b[0m \u001b[0mtrack\u001b[0m\u001b[0;34m=\u001b[0m\u001b[0mtrack\u001b[0m\u001b[0;34m)\u001b[0m\u001b[0;34m]\u001b[0m\u001b[0;34m\u001b[0m\u001b[0;34m\u001b[0m\u001b[0m\n\u001b[0m\u001b[1;32m    468\u001b[0m         \u001b[0;31m# have first part already, only loop while more to receive\u001b[0m\u001b[0;34m\u001b[0m\u001b[0;34m\u001b[0m\u001b[0;34m\u001b[0m\u001b[0m\n",
      "\u001b[0;32mzmq/backend/cython/socket.pyx\u001b[0m in \u001b[0;36mzmq.backend.cython.socket.Socket.recv\u001b[0;34m()\u001b[0m\n",
      "\u001b[0;32mzmq/backend/cython/socket.pyx\u001b[0m in \u001b[0;36mzmq.backend.cython.socket.Socket.recv\u001b[0;34m()\u001b[0m\n",
      "\u001b[0;32mzmq/backend/cython/socket.pyx\u001b[0m in \u001b[0;36mzmq.backend.cython.socket._recv_copy\u001b[0;34m()\u001b[0m\n",
      "\u001b[0;32m/opt/anaconda3/envs/tensorflow/lib/python3.6/site-packages/zmq/backend/cython/checkrc.pxd\u001b[0m in \u001b[0;36mzmq.backend.cython.checkrc._check_rc\u001b[0;34m()\u001b[0m\n",
      "\u001b[0;31mKeyboardInterrupt\u001b[0m: ",
      "\nDuring handling of the above exception, another exception occurred:\n",
      "\u001b[0;31mKeyboardInterrupt\u001b[0m                         Traceback (most recent call last)",
      "\u001b[0;32m<ipython-input-28-f3161f49b669>\u001b[0m in \u001b[0;36m<module>\u001b[0;34m\u001b[0m\n\u001b[1;32m     39\u001b[0m         \u001b[0mpattern\u001b[0m\u001b[0;34m.\u001b[0m\u001b[0mappend\u001b[0m\u001b[0;34m(\u001b[0m\u001b[0mindex\u001b[0m\u001b[0;34m)\u001b[0m\u001b[0;34m\u001b[0m\u001b[0;34m\u001b[0m\u001b[0m\n\u001b[1;32m     40\u001b[0m         \u001b[0mpattern\u001b[0m \u001b[0;34m=\u001b[0m \u001b[0mpattern\u001b[0m\u001b[0;34m[\u001b[0m\u001b[0;34m-\u001b[0m\u001b[0;36m5\u001b[0m\u001b[0;34m:\u001b[0m\u001b[0;34m]\u001b[0m\u001b[0;34m\u001b[0m\u001b[0;34m\u001b[0m\u001b[0m\n\u001b[0;32m---> 41\u001b[0;31m     \u001b[0minp\u001b[0m \u001b[0;34m=\u001b[0m \u001b[0minput\u001b[0m\u001b[0;34m(\u001b[0m\u001b[0;34m)\u001b[0m \u001b[0;34m+\u001b[0m \u001b[0;34m'\\n'\u001b[0m\u001b[0;34m\u001b[0m\u001b[0;34m\u001b[0m\u001b[0m\n\u001b[0m\u001b[1;32m     42\u001b[0m     \u001b[0;32mif\u001b[0m\u001b[0;34m(\u001b[0m\u001b[0minp\u001b[0m\u001b[0;34m==\u001b[0m\u001b[0;34m'exit\\n'\u001b[0m\u001b[0;34m)\u001b[0m\u001b[0;34m:\u001b[0m\u001b[0;34m\u001b[0m\u001b[0;34m\u001b[0m\u001b[0m\n\u001b[1;32m     43\u001b[0m         \u001b[0;32mbreak\u001b[0m\u001b[0;34m\u001b[0m\u001b[0;34m\u001b[0m\u001b[0m\n",
      "\u001b[0;32m/opt/anaconda3/envs/tensorflow/lib/python3.6/site-packages/ipykernel/kernelbase.py\u001b[0m in \u001b[0;36mraw_input\u001b[0;34m(self, prompt)\u001b[0m\n\u001b[1;32m    851\u001b[0m             \u001b[0mself\u001b[0m\u001b[0;34m.\u001b[0m\u001b[0m_parent_ident\u001b[0m\u001b[0;34m,\u001b[0m\u001b[0;34m\u001b[0m\u001b[0;34m\u001b[0m\u001b[0m\n\u001b[1;32m    852\u001b[0m             \u001b[0mself\u001b[0m\u001b[0;34m.\u001b[0m\u001b[0m_parent_header\u001b[0m\u001b[0;34m,\u001b[0m\u001b[0;34m\u001b[0m\u001b[0;34m\u001b[0m\u001b[0m\n\u001b[0;32m--> 853\u001b[0;31m             \u001b[0mpassword\u001b[0m\u001b[0;34m=\u001b[0m\u001b[0;32mFalse\u001b[0m\u001b[0;34m,\u001b[0m\u001b[0;34m\u001b[0m\u001b[0;34m\u001b[0m\u001b[0m\n\u001b[0m\u001b[1;32m    854\u001b[0m         )\n\u001b[1;32m    855\u001b[0m \u001b[0;34m\u001b[0m\u001b[0m\n",
      "\u001b[0;32m/opt/anaconda3/envs/tensorflow/lib/python3.6/site-packages/ipykernel/kernelbase.py\u001b[0m in \u001b[0;36m_input_request\u001b[0;34m(self, prompt, ident, parent, password)\u001b[0m\n\u001b[1;32m    881\u001b[0m             \u001b[0;32mexcept\u001b[0m \u001b[0mKeyboardInterrupt\u001b[0m\u001b[0;34m:\u001b[0m\u001b[0;34m\u001b[0m\u001b[0;34m\u001b[0m\u001b[0m\n\u001b[1;32m    882\u001b[0m                 \u001b[0;31m# re-raise KeyboardInterrupt, to truncate traceback\u001b[0m\u001b[0;34m\u001b[0m\u001b[0;34m\u001b[0m\u001b[0;34m\u001b[0m\u001b[0m\n\u001b[0;32m--> 883\u001b[0;31m                 \u001b[0;32mraise\u001b[0m \u001b[0mKeyboardInterrupt\u001b[0m\u001b[0;34m\u001b[0m\u001b[0;34m\u001b[0m\u001b[0m\n\u001b[0m\u001b[1;32m    884\u001b[0m             \u001b[0;32melse\u001b[0m\u001b[0;34m:\u001b[0m\u001b[0;34m\u001b[0m\u001b[0;34m\u001b[0m\u001b[0m\n\u001b[1;32m    885\u001b[0m                 \u001b[0;32mbreak\u001b[0m\u001b[0;34m\u001b[0m\u001b[0;34m\u001b[0m\u001b[0m\n",
      "\u001b[0;31mKeyboardInterrupt\u001b[0m: "
     ]
    }
   ],
   "source": [
    "# pick a random seed\n",
    "import sys\n",
    "# start = numpy.random.randint(0, len(dataX)-1)\n",
    "# pattern = dataX[start]\n",
    "# print(len(dataX))\n",
    "# for data in dataX:\n",
    "#     pattern = data\n",
    "#     print(\"\\\"\", ''.join([int_to_char[value] for value in pattern]), \"\\\"\")\n",
    "#print(\"Seed:\")\n",
    "#print(\"\\\"\", ''.join([int_to_char[value] for value in pattern]), \"\\\"\")\n",
    "# generate characters\n",
    "# for i in range(10000):\n",
    "# \tx = numpy.reshape(pattern, (1, len(pattern), 1))\n",
    "# \tx = x / float(n_vocab)\n",
    "# \tprediction = model.predict(x, verbose=0)\n",
    "# \tindex = numpy.argmax(prediction)\n",
    "# \tresult = int_to_char[index]\n",
    "# \tseq_in = [int_to_char[value] for value in pattern]\n",
    "# \tsys.stdout.write(result)\n",
    "# \tpattern.append(index)\n",
    "# \tpattern = pattern[1:len(pattern)]\n",
    "# print([char_to_int[value] for value in \"var1?\"])\n",
    "# pattern = dataX[0]\n",
    "# print(dataX[0])\n",
    "# print(\"\\\"\", ''.join([int_to_char[value] for value in pattern]), \"\\\"\")\n",
    "\n",
    "print(\"var1?\")\n",
    "raw = \"var1?\\n\"+input()+'\\n'\n",
    "pattern = [char_to_int[value] for value in raw][-5:]\n",
    "while True:\n",
    "    for i in range(5):\n",
    "        x = numpy.reshape(pattern, (1, len(pattern), 1))\n",
    "        x = x / float(n_vocab)\n",
    "        prediction = model.predict(x, verbose=0)\n",
    "        index = numpy.argmax(prediction)\n",
    "        result = int_to_char[index]\n",
    "        seq_in = [int_to_char[value] for value in pattern]\n",
    "        sys.stdout.write(result)\n",
    "        pattern.append(index)\n",
    "        pattern = pattern[-5:]\n",
    "    inp = input() + '\\n'\n",
    "    if(inp=='exit\\n'):\n",
    "        break\n",
    "    pattern+=[char_to_int[value] for value in inp]\n",
    "    pattern = pattern[-5:]\n",
    "    \n"
   ]
  },
  {
   "cell_type": "code",
   "execution_count": 22,
   "metadata": {},
   "outputs": [
    {
     "name": "stdout",
     "output_type": "stream",
     "text": [
      "gh\n"
     ]
    }
   ],
   "source": [
    "h = input()"
   ]
  },
  {
   "cell_type": "code",
   "execution_count": 23,
   "metadata": {},
   "outputs": [
    {
     "data": {
      "text/plain": [
       "'gh'"
      ]
     },
     "execution_count": 23,
     "metadata": {},
     "output_type": "execute_result"
    }
   ],
   "source": [
    "h"
   ]
  },
  {
   "cell_type": "code",
   "execution_count": 24,
   "metadata": {},
   "outputs": [
    {
     "data": {
      "text/plain": [
       "[3, 4, 5, 6, 7]"
      ]
     },
     "execution_count": 24,
     "metadata": {},
     "output_type": "execute_result"
    }
   ],
   "source": [
    "[1,2,3,4,5,6,7][-5:]"
   ]
  },
  {
   "cell_type": "code",
   "execution_count": null,
   "metadata": {},
   "outputs": [],
   "source": []
  }
 ],
 "metadata": {
  "kernelspec": {
   "display_name": "Python 3",
   "language": "python",
   "name": "python3"
  },
  "language_info": {
   "codemirror_mode": {
    "name": "ipython",
    "version": 3
   },
   "file_extension": ".py",
   "mimetype": "text/x-python",
   "name": "python",
   "nbconvert_exporter": "python",
   "pygments_lexer": "ipython3",
   "version": "3.6.7"
  }
 },
 "nbformat": 4,
 "nbformat_minor": 2
}
